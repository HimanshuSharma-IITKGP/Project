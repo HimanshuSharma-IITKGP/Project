{
 "cells": [
  {
   "cell_type": "code",
   "execution_count": 27,
   "id": "83e2f84b-7ab4-469e-97c1-43f7b4f92287",
   "metadata": {},
   "outputs": [],
   "source": [
    "import sympy as sp"
   ]
  },
  {
   "cell_type": "code",
   "execution_count": 28,
   "id": "4c86c6f1-e4fa-49d1-9f2f-7fe74ff636e6",
   "metadata": {},
   "outputs": [],
   "source": [
    "om, nu, E_0, M, c_ref, D_0, R_g, T, R_0, eta_E, chi_max = sp.symbols(\"Omega, nu, E_0, M, c_ref, D_0, R_g, T, R_0, eta_E, chi_max\")\n",
    "rt, tt = sp.symbols(\"x, ttilde\") # rt is non dimensional radius rtilde\n",
    "\n",
    "ut = sp.Function('u')(rt, tt) # ut is non-dimensional but i have not taken variable name as utilde so that I can easily make it compatible with COMSOL variable name\n",
    "ct = sp.Function('c')(rt, tt) # ct is non-dimensional as well, \n",
    "\n",
    "epsilon_rr = sp.diff(ut, rt, 1)\n",
    "epsilon_tt = ut/rt \n",
    "epsilon_zz = 0\n",
    "\n",
    "sigmat_rr = sp.Function(\"sigmatilde_rr\")(rt, tt)\n",
    "sigmat_tt = sp.Function(\"sigmatilde_theta_theta\")(rt, tt)\n",
    "sigmat_zz = sp.Function(\"sigmatilde_zz\")(rt, tt)\n",
    "\n"
   ]
  },
  {
   "cell_type": "code",
   "execution_count": 29,
   "id": "79e3f1e3-2e9a-47a0-b652-3f5d7a2ffae3",
   "metadata": {},
   "outputs": [
    {
     "data": {
      "text/latex": [
       "$\\displaystyle - \\Omega c_{ref} \\left(\\frac{- \\nu \\left(\\tilde{\\sigma}_{\\theta \\theta}{\\left(x,\\tilde{t} \\right)} + \\tilde{\\sigma}_{zz}{\\left(x,\\tilde{t} \\right)}\\right) + \\tilde{\\sigma}_{rr}{\\left(x,\\tilde{t} \\right)}}{\\chi_{max} \\eta_{E} c{\\left(x,\\tilde{t} \\right)} + 1} + \\frac{c{\\left(x,\\tilde{t} \\right)}}{3}\\right) + \\frac{\\partial}{\\partial x} u{\\left(x,\\tilde{t} \\right)} = 0$"
      ],
      "text/plain": [
       "Eq(-Omega*c_ref*((-nu*(sigmatilde_theta_theta(x, ttilde) + sigmatilde_zz(x, ttilde)) + sigmatilde_rr(x, ttilde))/(chi_max*eta_E*c(x, ttilde) + 1) + c(x, ttilde)/3) + Derivative(u(x, ttilde), x), 0)"
      ]
     },
     "execution_count": 29,
     "metadata": {},
     "output_type": "execute_result"
    }
   ],
   "source": [
    "# equilibrium equations in non dimensional form\n",
    "expr1 = epsilon_rr - ((sigmat_rr - nu*(sigmat_tt+sigmat_zz))/(1+eta_E*chi_max*ct)+ ct/3)*om*c_ref\n",
    "expr2 = epsilon_tt - ((sigmat_tt - nu*(sigmat_rr+sigmat_zz))/(1+eta_E*chi_max*ct)+ ct/3)*om*c_ref\n",
    "expr3 = epsilon_zz - ((sigmat_zz - nu*(sigmat_tt+sigmat_rr))/(1+eta_E*chi_max*ct)+ ct/3)*om*c_ref\n",
    "\n",
    "eq1 = sp.Eq(expr1, 0)\n",
    "eq2 = sp.Eq(expr2, 0)\n",
    "eq3 = sp.Eq(expr3, 0)\n",
    "\n",
    "eq1"
   ]
  },
  {
   "cell_type": "code",
   "execution_count": 30,
   "id": "75760471-2465-4fc5-a665-e81a33fae16a",
   "metadata": {},
   "outputs": [],
   "source": [
    "sigma = sp.linsolve([eq1, eq2, eq3], sigmat_rr, sigmat_tt, sigmat_zz)\n",
    "sp.simplify(sigma)\n",
    "sigma = sp.factor(sigma)\n",
    "sigma = sigma.args[0]"
   ]
  },
  {
   "cell_type": "code",
   "execution_count": 32,
   "id": "6f7971d2-1f31-4444-8e18-a568535b2c4e",
   "metadata": {},
   "outputs": [
    {
     "data": {
      "text/latex": [
       "$\\displaystyle \\frac{\\left(\\chi_{max} \\eta_{E} c{\\left(x,\\tilde{t} \\right)} + 1\\right) \\left(\\Omega c_{ref} \\nu x c{\\left(x,\\tilde{t} \\right)} + \\Omega c_{ref} x c{\\left(x,\\tilde{t} \\right)} + 3 \\nu x \\frac{\\partial}{\\partial x} u{\\left(x,\\tilde{t} \\right)} - 3 \\nu u{\\left(x,\\tilde{t} \\right)} - 3 x \\frac{\\partial}{\\partial x} u{\\left(x,\\tilde{t} \\right)}\\right)}{3 \\Omega c_{ref} x \\left(\\nu + 1\\right) \\left(2 \\nu - 1\\right)}$"
      ],
      "text/plain": [
       "(chi_max*eta_E*c(x, ttilde) + 1)*(Omega*c_ref*nu*x*c(x, ttilde) + Omega*c_ref*x*c(x, ttilde) + 3*nu*x*Derivative(u(x, ttilde), x) - 3*nu*u(x, ttilde) - 3*x*Derivative(u(x, ttilde), x))/(3*Omega*c_ref*x*(nu + 1)*(2*nu - 1))"
      ]
     },
     "execution_count": 32,
     "metadata": {},
     "output_type": "execute_result"
    }
   ],
   "source": [
    "sigmat_rr = sp.factor(sp.simplify(sigma[0]))\n",
    "sigmat_tt = sp.factor(sp.simplify(sigma[1]))\n",
    "sigmat_zz = sp.factor(sp.simplify(sigma[2]))\n",
    "sp.factor(sigmat_rr)"
   ]
  },
  {
   "cell_type": "code",
   "execution_count": 33,
   "id": "e4a4acf7-5dd2-44ea-9444-fd9a13987ab2",
   "metadata": {},
   "outputs": [
    {
     "data": {
      "text/latex": [
       "$\\displaystyle - \\frac{\\left(\\chi_{max} \\eta_{E} c{\\left(x,\\tilde{t} \\right)} + 1\\right) \\left(- \\Omega c_{ref} x c{\\left(x,\\tilde{t} \\right)} + x \\frac{\\partial}{\\partial x} u{\\left(x,\\tilde{t} \\right)} + u{\\left(x,\\tilde{t} \\right)}\\right)}{3 \\Omega c_{ref} x \\left(2 \\nu - 1\\right)}$"
      ],
      "text/plain": [
       "-(chi_max*eta_E*c(x, ttilde) + 1)*(-Omega*c_ref*x*c(x, ttilde) + x*Derivative(u(x, ttilde), x) + u(x, ttilde))/(3*Omega*c_ref*x*(2*nu - 1))"
      ]
     },
     "execution_count": 33,
     "metadata": {},
     "output_type": "execute_result"
    }
   ],
   "source": [
    "sigmat_hyd = (sigmat_rr + sigmat_tt + sigmat_zz)/3\n",
    "sp.factor(sp.simplify(sigmat_hyd))"
   ]
  },
  {
   "cell_type": "markdown",
   "id": "ddaf638c",
   "metadata": {},
   "source": [
    "# First PDE"
   ]
  },
  {
   "cell_type": "code",
   "execution_count": 34,
   "id": "f8095fe8-3e37-424a-985c-ecd2117aa81b",
   "metadata": {
    "scrolled": true
   },
   "outputs": [
    {
     "data": {
      "text/latex": [
       "$\\displaystyle \\frac{2 \\Omega c_{ref} \\chi_{max} \\eta_{E} \\nu x^{2} c{\\left(x,\\tilde{t} \\right)} \\frac{\\partial}{\\partial x} c{\\left(x,\\tilde{t} \\right)} + 2 \\Omega c_{ref} \\chi_{max} \\eta_{E} x^{2} c{\\left(x,\\tilde{t} \\right)} \\frac{\\partial}{\\partial x} c{\\left(x,\\tilde{t} \\right)} + \\Omega c_{ref} \\nu x^{2} \\frac{\\partial}{\\partial x} c{\\left(x,\\tilde{t} \\right)} + \\Omega c_{ref} x^{2} \\frac{\\partial}{\\partial x} c{\\left(x,\\tilde{t} \\right)} + 3 \\chi_{max} \\eta_{E} \\nu x^{2} c{\\left(x,\\tilde{t} \\right)} \\frac{\\partial^{2}}{\\partial x^{2}} u{\\left(x,\\tilde{t} \\right)} + 3 \\chi_{max} \\eta_{E} \\nu x^{2} \\frac{\\partial}{\\partial x} c{\\left(x,\\tilde{t} \\right)} \\frac{\\partial}{\\partial x} u{\\left(x,\\tilde{t} \\right)} + 3 \\chi_{max} \\eta_{E} \\nu x c{\\left(x,\\tilde{t} \\right)} \\frac{\\partial}{\\partial x} u{\\left(x,\\tilde{t} \\right)} - 3 \\chi_{max} \\eta_{E} \\nu x u{\\left(x,\\tilde{t} \\right)} \\frac{\\partial}{\\partial x} c{\\left(x,\\tilde{t} \\right)} - 3 \\chi_{max} \\eta_{E} \\nu c{\\left(x,\\tilde{t} \\right)} u{\\left(x,\\tilde{t} \\right)} - 3 \\chi_{max} \\eta_{E} x^{2} c{\\left(x,\\tilde{t} \\right)} \\frac{\\partial^{2}}{\\partial x^{2}} u{\\left(x,\\tilde{t} \\right)} - 3 \\chi_{max} \\eta_{E} x^{2} \\frac{\\partial}{\\partial x} c{\\left(x,\\tilde{t} \\right)} \\frac{\\partial}{\\partial x} u{\\left(x,\\tilde{t} \\right)} - 3 \\chi_{max} \\eta_{E} x c{\\left(x,\\tilde{t} \\right)} \\frac{\\partial}{\\partial x} u{\\left(x,\\tilde{t} \\right)} + 3 \\chi_{max} \\eta_{E} c{\\left(x,\\tilde{t} \\right)} u{\\left(x,\\tilde{t} \\right)} + 3 \\nu x^{2} \\frac{\\partial^{2}}{\\partial x^{2}} u{\\left(x,\\tilde{t} \\right)} + 3 \\nu x \\frac{\\partial}{\\partial x} u{\\left(x,\\tilde{t} \\right)} - 3 \\nu u{\\left(x,\\tilde{t} \\right)} - 3 x^{2} \\frac{\\partial^{2}}{\\partial x^{2}} u{\\left(x,\\tilde{t} \\right)} - 3 x \\frac{\\partial}{\\partial x} u{\\left(x,\\tilde{t} \\right)} + 3 u{\\left(x,\\tilde{t} \\right)}}{3 \\Omega c_{ref} x^{2} \\left(\\nu + 1\\right) \\left(2 \\nu - 1\\right)}$"
      ],
      "text/plain": [
       "(2*Omega*c_ref*chi_max*eta_E*nu*x**2*c(x, ttilde)*Derivative(c(x, ttilde), x) + 2*Omega*c_ref*chi_max*eta_E*x**2*c(x, ttilde)*Derivative(c(x, ttilde), x) + Omega*c_ref*nu*x**2*Derivative(c(x, ttilde), x) + Omega*c_ref*x**2*Derivative(c(x, ttilde), x) + 3*chi_max*eta_E*nu*x**2*c(x, ttilde)*Derivative(u(x, ttilde), (x, 2)) + 3*chi_max*eta_E*nu*x**2*Derivative(c(x, ttilde), x)*Derivative(u(x, ttilde), x) + 3*chi_max*eta_E*nu*x*c(x, ttilde)*Derivative(u(x, ttilde), x) - 3*chi_max*eta_E*nu*x*u(x, ttilde)*Derivative(c(x, ttilde), x) - 3*chi_max*eta_E*nu*c(x, ttilde)*u(x, ttilde) - 3*chi_max*eta_E*x**2*c(x, ttilde)*Derivative(u(x, ttilde), (x, 2)) - 3*chi_max*eta_E*x**2*Derivative(c(x, ttilde), x)*Derivative(u(x, ttilde), x) - 3*chi_max*eta_E*x*c(x, ttilde)*Derivative(u(x, ttilde), x) + 3*chi_max*eta_E*c(x, ttilde)*u(x, ttilde) + 3*nu*x**2*Derivative(u(x, ttilde), (x, 2)) + 3*nu*x*Derivative(u(x, ttilde), x) - 3*nu*u(x, ttilde) - 3*x**2*Derivative(u(x, ttilde), (x, 2)) - 3*x*Derivative(u(x, ttilde), x) + 3*u(x, ttilde))/(3*Omega*c_ref*x**2*(nu + 1)*(2*nu - 1))"
      ]
     },
     "execution_count": 34,
     "metadata": {},
     "output_type": "execute_result"
    }
   ],
   "source": [
    "pde1_lhs = sp.Eq(sp.diff(sigmat_rr, rt, 1) + (sigmat_rr - sigmat_tt)/rt, 0).lhs\n",
    "sp.factor(sp.simplify(sp.factor(pde1_lhs)))"
   ]
  },
  {
   "cell_type": "code",
   "execution_count": 35,
   "id": "8f5cfac2",
   "metadata": {},
   "outputs": [],
   "source": [
    "# I have taken gamma1 to be sigmat_rr so that I can easily impose boudary condition at rt=1 on ut\n",
    "Gamma1 = sigmat_rr\n",
    "f1 = sp.diff(Gamma1, rt, 1) - pde1_lhs"
   ]
  },
  {
   "cell_type": "code",
   "execution_count": 36,
   "id": "9ba514e0",
   "metadata": {},
   "outputs": [
    {
     "name": "stdout",
     "output_type": "stream",
     "text": [
      "(chi_max*eta_E*c(x, ttilde) + 1)*(Omega*c_ref*nu*x*c(x, ttilde) + Omega*c_ref*x*c(x, ttilde) + 3*nu*x*Derivative(u(x, ttilde), x) - 3*nu*u(x, ttilde) - 3*x*Derivative(u(x, ttilde), x))/(3*Omega*c_ref*x*(nu + 1)*(2*nu - 1))\n"
     ]
    }
   ],
   "source": [
    "Gamma1 = sp.factor(sp.simplify(sp.factor(Gamma1)))\n",
    "print(Gamma1)"
   ]
  },
  {
   "cell_type": "code",
   "execution_count": null,
   "id": "45c5cd81",
   "metadata": {},
   "outputs": [],
   "source": [
    "# gamma1 in comsol, for converting gamma1 to comsol compatible I had to change it a bit\n",
    "(chi_max*eta_E*c + 1)*(Omega*c_ref*nu*x*c + Omega*c_ref*x*c + 3*nu*x*ux - 3*nu*u - 3*x*ux)/(3*Omega*c_ref*x*(nu + 1)*(2*nu - 1))"
   ]
  },
  {
   "cell_type": "code",
   "execution_count": 37,
   "id": "5340135d",
   "metadata": {},
   "outputs": [
    {
     "name": "stdout",
     "output_type": "stream",
     "text": [
      "-(x*Derivative(u(x, ttilde), x) - u(x, ttilde))*(chi_max*eta_E*c(x, ttilde) + 1)/(Omega*c_ref*x**2*(nu + 1))\n"
     ]
    }
   ],
   "source": [
    "f1 = sp.factor(sp.simplify(sp.factor(f1)))\n",
    "print(f1)"
   ]
  },
  {
   "cell_type": "code",
   "execution_count": null,
   "id": "51f2af20",
   "metadata": {},
   "outputs": [],
   "source": [
    "# f1 in comsol\n",
    "-(x*ux - u)*(chi_max*eta_E*c + 1)/(Omega*c_ref*(x^2)*(nu + 1))"
   ]
  },
  {
   "cell_type": "markdown",
   "id": "9115de5c",
   "metadata": {},
   "source": [
    "# Second PDE"
   ]
  },
  {
   "cell_type": "code",
   "execution_count": 44,
   "id": "84e8bb61",
   "metadata": {
    "scrolled": true
   },
   "outputs": [
    {
     "data": {
      "text/latex": [
       "$\\displaystyle - \\frac{- 2 E_{0} \\Omega^{2} c_{ref} \\chi_{max} \\eta_{E} x^{3} c^{2}{\\left(x,\\tilde{t} \\right)} \\frac{\\partial^{2}}{\\partial x^{2}} c{\\left(x,\\tilde{t} \\right)} - 4 E_{0} \\Omega^{2} c_{ref} \\chi_{max} \\eta_{E} x^{3} c{\\left(x,\\tilde{t} \\right)} \\left(\\frac{\\partial}{\\partial x} c{\\left(x,\\tilde{t} \\right)}\\right)^{2} - 2 E_{0} \\Omega^{2} c_{ref} \\chi_{max} \\eta_{E} x^{2} c^{2}{\\left(x,\\tilde{t} \\right)} \\frac{\\partial}{\\partial x} c{\\left(x,\\tilde{t} \\right)} - E_{0} \\Omega^{2} c_{ref} x^{3} c{\\left(x,\\tilde{t} \\right)} \\frac{\\partial^{2}}{\\partial x^{2}} c{\\left(x,\\tilde{t} \\right)} - E_{0} \\Omega^{2} c_{ref} x^{3} \\left(\\frac{\\partial}{\\partial x} c{\\left(x,\\tilde{t} \\right)}\\right)^{2} - E_{0} \\Omega^{2} c_{ref} x^{2} c{\\left(x,\\tilde{t} \\right)} \\frac{\\partial}{\\partial x} c{\\left(x,\\tilde{t} \\right)} + E_{0} \\Omega \\chi_{max} \\eta_{E} x^{3} c^{2}{\\left(x,\\tilde{t} \\right)} \\frac{\\partial^{3}}{\\partial x^{3}} u{\\left(x,\\tilde{t} \\right)} + 3 E_{0} \\Omega \\chi_{max} \\eta_{E} x^{3} c{\\left(x,\\tilde{t} \\right)} \\frac{\\partial}{\\partial x} c{\\left(x,\\tilde{t} \\right)} \\frac{\\partial^{2}}{\\partial x^{2}} u{\\left(x,\\tilde{t} \\right)} + E_{0} \\Omega \\chi_{max} \\eta_{E} x^{3} c{\\left(x,\\tilde{t} \\right)} \\frac{\\partial^{2}}{\\partial x^{2}} c{\\left(x,\\tilde{t} \\right)} \\frac{\\partial}{\\partial x} u{\\left(x,\\tilde{t} \\right)} + E_{0} \\Omega \\chi_{max} \\eta_{E} x^{3} \\left(\\frac{\\partial}{\\partial x} c{\\left(x,\\tilde{t} \\right)}\\right)^{2} \\frac{\\partial}{\\partial x} u{\\left(x,\\tilde{t} \\right)} + 2 E_{0} \\Omega \\chi_{max} \\eta_{E} x^{2} c^{2}{\\left(x,\\tilde{t} \\right)} \\frac{\\partial^{2}}{\\partial x^{2}} u{\\left(x,\\tilde{t} \\right)} + E_{0} \\Omega \\chi_{max} \\eta_{E} x^{2} c{\\left(x,\\tilde{t} \\right)} u{\\left(x,\\tilde{t} \\right)} \\frac{\\partial^{2}}{\\partial x^{2}} c{\\left(x,\\tilde{t} \\right)} + 4 E_{0} \\Omega \\chi_{max} \\eta_{E} x^{2} c{\\left(x,\\tilde{t} \\right)} \\frac{\\partial}{\\partial x} c{\\left(x,\\tilde{t} \\right)} \\frac{\\partial}{\\partial x} u{\\left(x,\\tilde{t} \\right)} + E_{0} \\Omega \\chi_{max} \\eta_{E} x^{2} u{\\left(x,\\tilde{t} \\right)} \\left(\\frac{\\partial}{\\partial x} c{\\left(x,\\tilde{t} \\right)}\\right)^{2} - E_{0} \\Omega \\chi_{max} \\eta_{E} x c^{2}{\\left(x,\\tilde{t} \\right)} \\frac{\\partial}{\\partial x} u{\\left(x,\\tilde{t} \\right)} - 2 E_{0} \\Omega \\chi_{max} \\eta_{E} x c{\\left(x,\\tilde{t} \\right)} u{\\left(x,\\tilde{t} \\right)} \\frac{\\partial}{\\partial x} c{\\left(x,\\tilde{t} \\right)} + E_{0} \\Omega \\chi_{max} \\eta_{E} c^{2}{\\left(x,\\tilde{t} \\right)} u{\\left(x,\\tilde{t} \\right)} + E_{0} \\Omega x^{3} c{\\left(x,\\tilde{t} \\right)} \\frac{\\partial^{3}}{\\partial x^{3}} u{\\left(x,\\tilde{t} \\right)} + E_{0} \\Omega x^{3} \\frac{\\partial}{\\partial x} c{\\left(x,\\tilde{t} \\right)} \\frac{\\partial^{2}}{\\partial x^{2}} u{\\left(x,\\tilde{t} \\right)} + 2 E_{0} \\Omega x^{2} c{\\left(x,\\tilde{t} \\right)} \\frac{\\partial^{2}}{\\partial x^{2}} u{\\left(x,\\tilde{t} \\right)} + E_{0} \\Omega x^{2} \\frac{\\partial}{\\partial x} c{\\left(x,\\tilde{t} \\right)} \\frac{\\partial}{\\partial x} u{\\left(x,\\tilde{t} \\right)} - E_{0} \\Omega x c{\\left(x,\\tilde{t} \\right)} \\frac{\\partial}{\\partial x} u{\\left(x,\\tilde{t} \\right)} - E_{0} \\Omega x u{\\left(x,\\tilde{t} \\right)} \\frac{\\partial}{\\partial x} c{\\left(x,\\tilde{t} \\right)} + E_{0} \\Omega c{\\left(x,\\tilde{t} \\right)} u{\\left(x,\\tilde{t} \\right)} - 6 R_{g} T \\nu x^{3} \\frac{\\partial}{\\partial \\tilde{t}} c{\\left(x,\\tilde{t} \\right)} + 6 R_{g} T \\nu x^{3} \\frac{\\partial^{2}}{\\partial x^{2}} c{\\left(x,\\tilde{t} \\right)} + 6 R_{g} T \\nu x^{2} \\frac{\\partial}{\\partial x} c{\\left(x,\\tilde{t} \\right)} + 3 R_{g} T x^{3} \\frac{\\partial}{\\partial \\tilde{t}} c{\\left(x,\\tilde{t} \\right)} - 3 R_{g} T x^{3} \\frac{\\partial^{2}}{\\partial x^{2}} c{\\left(x,\\tilde{t} \\right)} - 3 R_{g} T x^{2} \\frac{\\partial}{\\partial x} c{\\left(x,\\tilde{t} \\right)}}{3 R_{g} T x^{3} \\cdot \\left(2 \\nu - 1\\right)}$"
      ],
      "text/plain": [
       "-(-2*E_0*Omega**2*c_ref*chi_max*eta_E*x**3*c(x, ttilde)**2*Derivative(c(x, ttilde), (x, 2)) - 4*E_0*Omega**2*c_ref*chi_max*eta_E*x**3*c(x, ttilde)*Derivative(c(x, ttilde), x)**2 - 2*E_0*Omega**2*c_ref*chi_max*eta_E*x**2*c(x, ttilde)**2*Derivative(c(x, ttilde), x) - E_0*Omega**2*c_ref*x**3*c(x, ttilde)*Derivative(c(x, ttilde), (x, 2)) - E_0*Omega**2*c_ref*x**3*Derivative(c(x, ttilde), x)**2 - E_0*Omega**2*c_ref*x**2*c(x, ttilde)*Derivative(c(x, ttilde), x) + E_0*Omega*chi_max*eta_E*x**3*c(x, ttilde)**2*Derivative(u(x, ttilde), (x, 3)) + 3*E_0*Omega*chi_max*eta_E*x**3*c(x, ttilde)*Derivative(c(x, ttilde), x)*Derivative(u(x, ttilde), (x, 2)) + E_0*Omega*chi_max*eta_E*x**3*c(x, ttilde)*Derivative(c(x, ttilde), (x, 2))*Derivative(u(x, ttilde), x) + E_0*Omega*chi_max*eta_E*x**3*Derivative(c(x, ttilde), x)**2*Derivative(u(x, ttilde), x) + 2*E_0*Omega*chi_max*eta_E*x**2*c(x, ttilde)**2*Derivative(u(x, ttilde), (x, 2)) + E_0*Omega*chi_max*eta_E*x**2*c(x, ttilde)*u(x, ttilde)*Derivative(c(x, ttilde), (x, 2)) + 4*E_0*Omega*chi_max*eta_E*x**2*c(x, ttilde)*Derivative(c(x, ttilde), x)*Derivative(u(x, ttilde), x) + E_0*Omega*chi_max*eta_E*x**2*u(x, ttilde)*Derivative(c(x, ttilde), x)**2 - E_0*Omega*chi_max*eta_E*x*c(x, ttilde)**2*Derivative(u(x, ttilde), x) - 2*E_0*Omega*chi_max*eta_E*x*c(x, ttilde)*u(x, ttilde)*Derivative(c(x, ttilde), x) + E_0*Omega*chi_max*eta_E*c(x, ttilde)**2*u(x, ttilde) + E_0*Omega*x**3*c(x, ttilde)*Derivative(u(x, ttilde), (x, 3)) + E_0*Omega*x**3*Derivative(c(x, ttilde), x)*Derivative(u(x, ttilde), (x, 2)) + 2*E_0*Omega*x**2*c(x, ttilde)*Derivative(u(x, ttilde), (x, 2)) + E_0*Omega*x**2*Derivative(c(x, ttilde), x)*Derivative(u(x, ttilde), x) - E_0*Omega*x*c(x, ttilde)*Derivative(u(x, ttilde), x) - E_0*Omega*x*u(x, ttilde)*Derivative(c(x, ttilde), x) + E_0*Omega*c(x, ttilde)*u(x, ttilde) - 6*R_g*T*nu*x**3*Derivative(c(x, ttilde), ttilde) + 6*R_g*T*nu*x**3*Derivative(c(x, ttilde), (x, 2)) + 6*R_g*T*nu*x**2*Derivative(c(x, ttilde), x) + 3*R_g*T*x**3*Derivative(c(x, ttilde), ttilde) - 3*R_g*T*x**3*Derivative(c(x, ttilde), (x, 2)) - 3*R_g*T*x**2*Derivative(c(x, ttilde), x))/(3*R_g*T*x**3*(2*nu - 1))"
      ]
     },
     "execution_count": 44,
     "metadata": {},
     "output_type": "execute_result"
    }
   ],
   "source": [
    "jt = -sp.diff(ct, rt, 1) + (om**2)*E_0*c_ref*ct*sp.diff(sigmat_hyd, rt, 1)/(R_g*T) # non dimensional mass flux\n",
    "pde2_lhs = sp.Eq( sp.diff(ct, tt, 1) + sp.diff(jt*rt, rt, 1)/rt, 0).lhs\n",
    "sp.factor(sp.simplify(sp.factor(pde2_lhs)))"
   ]
  },
  {
   "cell_type": "code",
   "execution_count": 47,
   "id": "2c7d983d",
   "metadata": {},
   "outputs": [
    {
     "data": {
      "text/latex": [
       "$\\displaystyle - \\frac{- 2 E_{0} \\Omega^{2} c_{ref} \\chi_{max} \\eta_{E} x^{2} c^{2}{\\left(x,\\tilde{t} \\right)} \\frac{\\partial}{\\partial x} c{\\left(x,\\tilde{t} \\right)} - E_{0} \\Omega^{2} c_{ref} x^{2} c{\\left(x,\\tilde{t} \\right)} \\frac{\\partial}{\\partial x} c{\\left(x,\\tilde{t} \\right)} + E_{0} \\Omega \\chi_{max} \\eta_{E} x^{2} c^{2}{\\left(x,\\tilde{t} \\right)} \\frac{\\partial^{2}}{\\partial x^{2}} u{\\left(x,\\tilde{t} \\right)} + E_{0} \\Omega \\chi_{max} \\eta_{E} x^{2} c{\\left(x,\\tilde{t} \\right)} \\frac{\\partial}{\\partial x} c{\\left(x,\\tilde{t} \\right)} \\frac{\\partial}{\\partial x} u{\\left(x,\\tilde{t} \\right)} + E_{0} \\Omega \\chi_{max} \\eta_{E} x c^{2}{\\left(x,\\tilde{t} \\right)} \\frac{\\partial}{\\partial x} u{\\left(x,\\tilde{t} \\right)} + E_{0} \\Omega \\chi_{max} \\eta_{E} x c{\\left(x,\\tilde{t} \\right)} u{\\left(x,\\tilde{t} \\right)} \\frac{\\partial}{\\partial x} c{\\left(x,\\tilde{t} \\right)} - E_{0} \\Omega \\chi_{max} \\eta_{E} c^{2}{\\left(x,\\tilde{t} \\right)} u{\\left(x,\\tilde{t} \\right)} + E_{0} \\Omega x^{2} c{\\left(x,\\tilde{t} \\right)} \\frac{\\partial^{2}}{\\partial x^{2}} u{\\left(x,\\tilde{t} \\right)} + E_{0} \\Omega x c{\\left(x,\\tilde{t} \\right)} \\frac{\\partial}{\\partial x} u{\\left(x,\\tilde{t} \\right)} - E_{0} \\Omega c{\\left(x,\\tilde{t} \\right)} u{\\left(x,\\tilde{t} \\right)} + 6 R_{g} T \\nu x^{2} \\frac{\\partial}{\\partial x} c{\\left(x,\\tilde{t} \\right)} - 3 R_{g} T x^{2} \\frac{\\partial}{\\partial x} c{\\left(x,\\tilde{t} \\right)}}{3 R_{g} T x^{2} \\cdot \\left(2 \\nu - 1\\right)}$"
      ],
      "text/plain": [
       "-(-2*E_0*Omega**2*c_ref*chi_max*eta_E*x**2*c(x, ttilde)**2*Derivative(c(x, ttilde), x) - E_0*Omega**2*c_ref*x**2*c(x, ttilde)*Derivative(c(x, ttilde), x) + E_0*Omega*chi_max*eta_E*x**2*c(x, ttilde)**2*Derivative(u(x, ttilde), (x, 2)) + E_0*Omega*chi_max*eta_E*x**2*c(x, ttilde)*Derivative(c(x, ttilde), x)*Derivative(u(x, ttilde), x) + E_0*Omega*chi_max*eta_E*x*c(x, ttilde)**2*Derivative(u(x, ttilde), x) + E_0*Omega*chi_max*eta_E*x*c(x, ttilde)*u(x, ttilde)*Derivative(c(x, ttilde), x) - E_0*Omega*chi_max*eta_E*c(x, ttilde)**2*u(x, ttilde) + E_0*Omega*x**2*c(x, ttilde)*Derivative(u(x, ttilde), (x, 2)) + E_0*Omega*x*c(x, ttilde)*Derivative(u(x, ttilde), x) - E_0*Omega*c(x, ttilde)*u(x, ttilde) + 6*R_g*T*nu*x**2*Derivative(c(x, ttilde), x) - 3*R_g*T*x**2*Derivative(c(x, ttilde), x))/(3*R_g*T*x**2*(2*nu - 1))"
      ]
     },
     "execution_count": 47,
     "metadata": {},
     "output_type": "execute_result"
    }
   ],
   "source": [
    "Gamma2 = jt\n",
    "Gamma2 = sp.factor(sp.simplify(sp.factor(jt)))\n",
    "Gamma2"
   ]
  },
  {
   "cell_type": "code",
   "execution_count": 46,
   "id": "05e8504b",
   "metadata": {},
   "outputs": [
    {
     "name": "stdout",
     "output_type": "stream",
     "text": [
      "-(-2*E_0*Omega**2*c_ref*chi_max*eta_E*x**2*c(x, ttilde)**2*Derivative(c(x, ttilde), x) - E_0*Omega**2*c_ref*x**2*c(x, ttilde)*Derivative(c(x, ttilde), x) + E_0*Omega*chi_max*eta_E*x**2*c(x, ttilde)**2*Derivative(u(x, ttilde), (x, 2)) + E_0*Omega*chi_max*eta_E*x**2*c(x, ttilde)*Derivative(c(x, ttilde), x)*Derivative(u(x, ttilde), x) + E_0*Omega*chi_max*eta_E*x*c(x, ttilde)**2*Derivative(u(x, ttilde), x) + E_0*Omega*chi_max*eta_E*x*c(x, ttilde)*u(x, ttilde)*Derivative(c(x, ttilde), x) - E_0*Omega*chi_max*eta_E*c(x, ttilde)**2*u(x, ttilde) + E_0*Omega*x**2*c(x, ttilde)*Derivative(u(x, ttilde), (x, 2)) + E_0*Omega*x*c(x, ttilde)*Derivative(u(x, ttilde), x) - E_0*Omega*c(x, ttilde)*u(x, ttilde) + 6*R_g*T*nu*x**2*Derivative(c(x, ttilde), x) - 3*R_g*T*x**2*Derivative(c(x, ttilde), x))/(3*R_g*T*x**2*(2*nu - 1))\n"
     ]
    }
   ],
   "source": [
    "print(Gamma2)"
   ]
  },
  {
   "cell_type": "code",
   "execution_count": null,
   "id": "01971084",
   "metadata": {},
   "outputs": [],
   "source": [
    "# gamma2 in comsol\n",
    "-(-2*E_0*(Omega^2)*c_ref*chi_max*eta_E*(x^2)*(c^2)*cx - E_0*(Omega^2)*c_ref*(x^2)*c*cx + E_0*Omega*chi_max*eta_E*(x^2)*(c^2)*uxx + E_0*Omega*chi_max*eta_E*(x^2)*c*cx*ux + E_0*Omega*chi_max*eta_E*x*(c^2)*ux + E_0*Omega*chi_max*eta_E*x*c*u*cx - E_0*Omega*chi_max*eta_E*(c^2)*u + E_0*Omega*x^2*c*uxx + E_0*Omega*x*c*ux- E_0*Omega*c*u + 6*R_g*T*nu*(x^2)*cx - 3*R_g*T*(x^2)*cx)/(3*R_g*T*(x^2)*(2*nu - 1))"
   ]
  },
  {
   "cell_type": "code",
   "execution_count": 49,
   "id": "ba5a6e33",
   "metadata": {},
   "outputs": [
    {
     "data": {
      "text/latex": [
       "$\\displaystyle - \\frac{2 E_{0} \\Omega^{2} c_{ref} \\chi_{max} \\eta_{E} x^{2} c^{2}{\\left(x,\\tilde{t} \\right)} \\frac{\\partial}{\\partial x} c{\\left(x,\\tilde{t} \\right)} + E_{0} \\Omega^{2} c_{ref} x^{2} c{\\left(x,\\tilde{t} \\right)} \\frac{\\partial}{\\partial x} c{\\left(x,\\tilde{t} \\right)} - E_{0} \\Omega \\chi_{max} \\eta_{E} x^{2} c^{2}{\\left(x,\\tilde{t} \\right)} \\frac{\\partial^{2}}{\\partial x^{2}} u{\\left(x,\\tilde{t} \\right)} - E_{0} \\Omega \\chi_{max} \\eta_{E} x^{2} c{\\left(x,\\tilde{t} \\right)} \\frac{\\partial}{\\partial x} c{\\left(x,\\tilde{t} \\right)} \\frac{\\partial}{\\partial x} u{\\left(x,\\tilde{t} \\right)} - E_{0} \\Omega \\chi_{max} \\eta_{E} x c^{2}{\\left(x,\\tilde{t} \\right)} \\frac{\\partial}{\\partial x} u{\\left(x,\\tilde{t} \\right)} - E_{0} \\Omega \\chi_{max} \\eta_{E} x c{\\left(x,\\tilde{t} \\right)} u{\\left(x,\\tilde{t} \\right)} \\frac{\\partial}{\\partial x} c{\\left(x,\\tilde{t} \\right)} + E_{0} \\Omega \\chi_{max} \\eta_{E} c^{2}{\\left(x,\\tilde{t} \\right)} u{\\left(x,\\tilde{t} \\right)} - E_{0} \\Omega x^{2} c{\\left(x,\\tilde{t} \\right)} \\frac{\\partial^{2}}{\\partial x^{2}} u{\\left(x,\\tilde{t} \\right)} - E_{0} \\Omega x c{\\left(x,\\tilde{t} \\right)} \\frac{\\partial}{\\partial x} u{\\left(x,\\tilde{t} \\right)} + E_{0} \\Omega c{\\left(x,\\tilde{t} \\right)} u{\\left(x,\\tilde{t} \\right)} + 6 R_{g} T \\nu x^{3} \\frac{\\partial}{\\partial \\tilde{t}} c{\\left(x,\\tilde{t} \\right)} - 6 R_{g} T \\nu x^{2} \\frac{\\partial}{\\partial x} c{\\left(x,\\tilde{t} \\right)} - 3 R_{g} T x^{3} \\frac{\\partial}{\\partial \\tilde{t}} c{\\left(x,\\tilde{t} \\right)} + 3 R_{g} T x^{2} \\frac{\\partial}{\\partial x} c{\\left(x,\\tilde{t} \\right)}}{3 R_{g} T x^{3} \\cdot \\left(2 \\nu - 1\\right)}$"
      ],
      "text/plain": [
       "-(2*E_0*Omega**2*c_ref*chi_max*eta_E*x**2*c(x, ttilde)**2*Derivative(c(x, ttilde), x) + E_0*Omega**2*c_ref*x**2*c(x, ttilde)*Derivative(c(x, ttilde), x) - E_0*Omega*chi_max*eta_E*x**2*c(x, ttilde)**2*Derivative(u(x, ttilde), (x, 2)) - E_0*Omega*chi_max*eta_E*x**2*c(x, ttilde)*Derivative(c(x, ttilde), x)*Derivative(u(x, ttilde), x) - E_0*Omega*chi_max*eta_E*x*c(x, ttilde)**2*Derivative(u(x, ttilde), x) - E_0*Omega*chi_max*eta_E*x*c(x, ttilde)*u(x, ttilde)*Derivative(c(x, ttilde), x) + E_0*Omega*chi_max*eta_E*c(x, ttilde)**2*u(x, ttilde) - E_0*Omega*x**2*c(x, ttilde)*Derivative(u(x, ttilde), (x, 2)) - E_0*Omega*x*c(x, ttilde)*Derivative(u(x, ttilde), x) + E_0*Omega*c(x, ttilde)*u(x, ttilde) + 6*R_g*T*nu*x**3*Derivative(c(x, ttilde), ttilde) - 6*R_g*T*nu*x**2*Derivative(c(x, ttilde), x) - 3*R_g*T*x**3*Derivative(c(x, ttilde), ttilde) + 3*R_g*T*x**2*Derivative(c(x, ttilde), x))/(3*R_g*T*x**3*(2*nu - 1))"
      ]
     },
     "execution_count": 49,
     "metadata": {},
     "output_type": "execute_result"
    }
   ],
   "source": [
    "# while entering f2 in COMSOL i will ignore the time derivative term and treat it seperately\n",
    "f2 = sp.diff(Gamma2, rt, 1) - pde2_lhs\n",
    "f2 = sp.factor(sp.simplify(sp.factor(f2)))\n",
    "f2"
   ]
  },
  {
   "cell_type": "code",
   "execution_count": 50,
   "id": "700c4276",
   "metadata": {
    "scrolled": true
   },
   "outputs": [
    {
     "name": "stdout",
     "output_type": "stream",
     "text": [
      "-(2*E_0*Omega**2*c_ref*chi_max*eta_E*x**2*c(x, ttilde)**2*Derivative(c(x, ttilde), x) + E_0*Omega**2*c_ref*x**2*c(x, ttilde)*Derivative(c(x, ttilde), x) - E_0*Omega*chi_max*eta_E*x**2*c(x, ttilde)**2*Derivative(u(x, ttilde), (x, 2)) - E_0*Omega*chi_max*eta_E*x**2*c(x, ttilde)*Derivative(c(x, ttilde), x)*Derivative(u(x, ttilde), x) - E_0*Omega*chi_max*eta_E*x*c(x, ttilde)**2*Derivative(u(x, ttilde), x) - E_0*Omega*chi_max*eta_E*x*c(x, ttilde)*u(x, ttilde)*Derivative(c(x, ttilde), x) + E_0*Omega*chi_max*eta_E*c(x, ttilde)**2*u(x, ttilde) - E_0*Omega*x**2*c(x, ttilde)*Derivative(u(x, ttilde), (x, 2)) - E_0*Omega*x*c(x, ttilde)*Derivative(u(x, ttilde), x) + E_0*Omega*c(x, ttilde)*u(x, ttilde) + 6*R_g*T*nu*x**3*Derivative(c(x, ttilde), ttilde) - 6*R_g*T*nu*x**2*Derivative(c(x, ttilde), x) - 3*R_g*T*x**3*Derivative(c(x, ttilde), ttilde) + 3*R_g*T*x**2*Derivative(c(x, ttilde), x))/(3*R_g*T*x**3*(2*nu - 1))\n"
     ]
    }
   ],
   "source": [
    "print(f2)"
   ]
  },
  {
   "cell_type": "code",
   "execution_count": null,
   "id": "36d72a36",
   "metadata": {},
   "outputs": [],
   "source": [
    "# f2 in comsol\n",
    "-(2*E_0*(Omega^2)*c_ref*chi_max*eta_E*(x^2)*(c^2)*cx + E_0*(Omega^2)*c_ref*(x^2)*c*cx - E_0*Omega*chi_max*eta_E*(x^2)*(c^2)*uxx - E_0*Omega*chi_max*eta_E*(x^2)*c*cx*ux - E_0*Omega*chi_max*eta_E*x*(c^2)*ux - E_0*Omega*chi_max*eta_E*x*c*u*cx + E_0*Omega*chi_max*eta_E*(c^2)*u - E_0*Omega*(x^2)*c*uxx - E_0*Omega*x*c*ux + E_0*Omega*c*u - 6*R_g*T*nu*(x^2)*cx + 3*R_g*T*(x^2)*cx)/(3*R_g*T*(x^3)*(2*nu - 1))"
   ]
  },
  {
   "cell_type": "code",
   "execution_count": null,
   "id": "8f9ce8b2",
   "metadata": {},
   "outputs": [],
   "source": []
  },
  {
   "cell_type": "code",
   "execution_count": null,
   "id": "c7f437cf",
   "metadata": {},
   "outputs": [],
   "source": []
  }
 ],
 "metadata": {
  "kernelspec": {
   "display_name": "Python 3 (ipykernel)",
   "language": "python",
   "name": "python3"
  },
  "language_info": {
   "codemirror_mode": {
    "name": "ipython",
    "version": 3
   },
   "file_extension": ".py",
   "mimetype": "text/x-python",
   "name": "python",
   "nbconvert_exporter": "python",
   "pygments_lexer": "ipython3",
   "version": "3.9.12"
  }
 },
 "nbformat": 4,
 "nbformat_minor": 5
}
